{
 "cells": [
  {
   "cell_type": "code",
   "execution_count": 3,
   "id": "915d55d8-c9dd-4459-92f6-4f0bd73a3fee",
   "metadata": {},
   "outputs": [
    {
     "name": "stdout",
     "output_type": "stream",
     "text": [
      "The autoreload extension is already loaded. To reload it, use:\n",
      "  %reload_ext autoreload\n"
     ]
    }
   ],
   "source": [
    "%load_ext autoreload\n",
    "%autoreload 2"
   ]
  },
  {
   "cell_type": "code",
   "execution_count": 4,
   "id": "8ac4cab2-f415-4815-a92b-6c6ebf6d7943",
   "metadata": {},
   "outputs": [],
   "source": [
    "import os\n",
    "import numpy as np\n",
    "import pandas as pd\n",
    "import matplotlib.pyplot as plt\n",
    "import seaborn as sns\n",
    "import scipy.cluster.hierarchy as shc\n",
    "from sklearn.cluster import KMeans\n",
    "from sklearn.decomposition import PCA\n",
    "\n",
    "# import required packages\n",
    "from sklearn.model_selection import train_test_split, cross_validate\n",
    "from sklearn.linear_model import LinearRegression\n",
    "from sklearn.ensemble import GradientBoostingRegressor\n",
    "from sklearn.neighbors import KNeighborsRegressor\n",
    "from sklearn import metrics\n",
    "\n",
    "from ml_preprocess import show_unique_values, custom_ordinal_encoder, custom_onehot_encoder"
   ]
  },
  {
   "cell_type": "markdown",
   "id": "08e83dc3-3bf7-4830-9976-e641aaf86415",
   "metadata": {},
   "source": [
    "## Load and Split Data"
   ]
  },
  {
   "cell_type": "code",
   "execution_count": 5,
   "id": "3db5b0eb-7b89-4474-9d2d-a30d674ceed4",
   "metadata": {},
   "outputs": [
    {
     "data": {
      "text/plain": [
       "['car.c45-names', 'car.data', 'car.names']"
      ]
     },
     "execution_count": 5,
     "metadata": {},
     "output_type": "execute_result"
    }
   ],
   "source": [
    "DATADIR = os.path.join(\"../data\")\n",
    "os.listdir(DATADIR)"
   ]
  },
  {
   "cell_type": "code",
   "execution_count": 6,
   "id": "19b34855-95b2-4951-9b82-3178e5ef77e0",
   "metadata": {},
   "outputs": [
    {
     "name": "stdout",
     "output_type": "stream",
     "text": [
      "<class 'pandas.core.frame.DataFrame'>\n",
      "RangeIndex: 1728 entries, 0 to 1727\n",
      "Data columns (total 7 columns):\n",
      " #   Column    Non-Null Count  Dtype \n",
      "---  ------    --------------  ----- \n",
      " 0   buying    1728 non-null   object\n",
      " 1   maint     1728 non-null   object\n",
      " 2   doors     1728 non-null   object\n",
      " 3   persons   1728 non-null   object\n",
      " 4   lug_boot  1728 non-null   object\n",
      " 5   safety    1728 non-null   object\n",
      " 6   class     1728 non-null   object\n",
      "dtypes: object(7)\n",
      "memory usage: 94.6+ KB\n"
     ]
    }
   ],
   "source": [
    "data = pd.read_csv(os.path.join(DATADIR,\"car.data\"), sep=\",\", header=None)\n",
    "data.columns = [\"buying\",\"maint\",\"doors\",\"persons\",\"lug_boot\",\"safety\",\"class\"]\n",
    "data.info()"
   ]
  },
  {
   "cell_type": "code",
   "execution_count": 7,
   "id": "22a39a37-9218-488d-a783-d441dd2ba274",
   "metadata": {},
   "outputs": [
    {
     "data": {
      "text/html": [
       "<div>\n",
       "<style scoped>\n",
       "    .dataframe tbody tr th:only-of-type {\n",
       "        vertical-align: middle;\n",
       "    }\n",
       "\n",
       "    .dataframe tbody tr th {\n",
       "        vertical-align: top;\n",
       "    }\n",
       "\n",
       "    .dataframe thead th {\n",
       "        text-align: right;\n",
       "    }\n",
       "</style>\n",
       "<table border=\"1\" class=\"dataframe\">\n",
       "  <thead>\n",
       "    <tr style=\"text-align: right;\">\n",
       "      <th></th>\n",
       "      <th>buying</th>\n",
       "      <th>maint</th>\n",
       "      <th>doors</th>\n",
       "      <th>persons</th>\n",
       "      <th>lug_boot</th>\n",
       "      <th>safety</th>\n",
       "      <th>class</th>\n",
       "    </tr>\n",
       "  </thead>\n",
       "  <tbody>\n",
       "    <tr>\n",
       "      <th>count</th>\n",
       "      <td>1728</td>\n",
       "      <td>1728</td>\n",
       "      <td>1728</td>\n",
       "      <td>1728</td>\n",
       "      <td>1728</td>\n",
       "      <td>1728</td>\n",
       "      <td>1728</td>\n",
       "    </tr>\n",
       "    <tr>\n",
       "      <th>unique</th>\n",
       "      <td>4</td>\n",
       "      <td>4</td>\n",
       "      <td>4</td>\n",
       "      <td>3</td>\n",
       "      <td>3</td>\n",
       "      <td>3</td>\n",
       "      <td>4</td>\n",
       "    </tr>\n",
       "    <tr>\n",
       "      <th>top</th>\n",
       "      <td>vhigh</td>\n",
       "      <td>vhigh</td>\n",
       "      <td>2</td>\n",
       "      <td>2</td>\n",
       "      <td>small</td>\n",
       "      <td>low</td>\n",
       "      <td>unacc</td>\n",
       "    </tr>\n",
       "    <tr>\n",
       "      <th>freq</th>\n",
       "      <td>432</td>\n",
       "      <td>432</td>\n",
       "      <td>432</td>\n",
       "      <td>576</td>\n",
       "      <td>576</td>\n",
       "      <td>576</td>\n",
       "      <td>1210</td>\n",
       "    </tr>\n",
       "  </tbody>\n",
       "</table>\n",
       "</div>"
      ],
      "text/plain": [
       "       buying  maint doors persons lug_boot safety  class\n",
       "count    1728   1728  1728    1728     1728   1728   1728\n",
       "unique      4      4     4       3        3      3      4\n",
       "top     vhigh  vhigh     2       2    small    low  unacc\n",
       "freq      432    432   432     576      576    576   1210"
      ]
     },
     "execution_count": 7,
     "metadata": {},
     "output_type": "execute_result"
    }
   ],
   "source": [
    "data.describe()"
   ]
  },
  {
   "cell_type": "code",
   "execution_count": 8,
   "id": "355cba0d-7827-410d-9c1d-4c98ec5ffbd8",
   "metadata": {},
   "outputs": [
    {
     "name": "stdout",
     "output_type": "stream",
     "text": [
      "buying: 4 unique values.\n",
      "['vhigh' 'high' 'med' 'low']\n",
      "\n",
      "maint: 4 unique values.\n",
      "['vhigh' 'high' 'med' 'low']\n",
      "\n",
      "doors: 4 unique values.\n",
      "['2' '3' '4' '5more']\n",
      "\n",
      "persons: 3 unique values.\n",
      "['2' '4' 'more']\n",
      "\n",
      "lug_boot: 3 unique values.\n",
      "['small' 'med' 'big']\n",
      "\n",
      "safety: 3 unique values.\n",
      "['low' 'med' 'high']\n",
      "\n",
      "class: 4 unique values.\n",
      "['unacc' 'acc' 'vgood' 'good']\n",
      "\n"
     ]
    }
   ],
   "source": [
    "show_unique_values(data)"
   ]
  },
  {
   "cell_type": "markdown",
   "id": "7873a207-627f-4ccc-ac47-eb8e01b47c14",
   "metadata": {},
   "source": [
    "## Define ML Target, Features and Split Data"
   ]
  },
  {
   "cell_type": "code",
   "execution_count": 9,
   "id": "e15bfb4c-e8e2-4f5c-a785-053dcb33d10c",
   "metadata": {},
   "outputs": [
    {
     "name": "stdout",
     "output_type": "stream",
     "text": [
      "target: ['buying']\n",
      "features X: ['maint', 'doors', 'lug_boot', 'safety', 'class']\n"
     ]
    }
   ],
   "source": [
    "# define target y and features X\n",
    "y = ['buying']\n",
    "X = [i for i in data.columns if i not in ['buying','persons']]\n",
    "print('target:', y)\n",
    "print('features X:', X)"
   ]
  },
  {
   "cell_type": "code",
   "execution_count": 10,
   "id": "9fc95540-aa20-42da-b418-a5cc5fedc0e5",
   "metadata": {},
   "outputs": [
    {
     "name": "stdout",
     "output_type": "stream",
     "text": [
      "train: (1382, 6)\n",
      "test: (346, 6)\n"
     ]
    }
   ],
   "source": [
    "# train-test split\n",
    "train, test = train_test_split(data[X+y], test_size=0.2, shuffle=True, random_state=42)\n",
    "train = train.reset_index().drop('index',axis=1)\n",
    "test = test.reset_index().drop('index',axis=1)\n",
    "print('train:', train.shape)\n",
    "print('test:', test.shape)"
   ]
  },
  {
   "cell_type": "markdown",
   "id": "47722c3b-066e-4ef0-b56a-27e2fa02b3be",
   "metadata": {},
   "source": [
    "## Encode"
   ]
  },
  {
   "cell_type": "code",
   "execution_count": 11,
   "id": "36dc9b38-12c2-49cf-804e-fbc26e938152",
   "metadata": {},
   "outputs": [],
   "source": [
    "def init_encoding_dict():   \n",
    "    # Define ordinal values to encode categorical variables\n",
    "    value_dict = {}\n",
    "\n",
    "    value_dict['buying'] = {\n",
    "        'low':0,\n",
    "        'med':1,\n",
    "        'high':2,\n",
    "        'vhigh':3\n",
    "    }\n",
    "\n",
    "    value_dict['maint'] = {\n",
    "        'low':0,\n",
    "        'med':1,\n",
    "        'high':2,\n",
    "        'vhigh':3\n",
    "    }\n",
    "\n",
    "#     value_dict['doors'] = {\n",
    "#         '2':0,\n",
    "#         '3':1,\n",
    "#         '4':2,\n",
    "#         '5more':3\n",
    "#     }\n",
    "\n",
    "#     value_dict['persons'] = {\n",
    "#         '2':0,\n",
    "#         '4':1,\n",
    "#         'more':2\n",
    "#     }\n",
    "\n",
    "    value_dict['lug_boot'] = {\n",
    "        'small':0,\n",
    "        'med':1,\n",
    "        'big':2\n",
    "    }\n",
    "\n",
    "    value_dict['safety'] = {\n",
    "        'low':0,\n",
    "        'med':1,\n",
    "        'high':2\n",
    "    }\n",
    "\n",
    "    value_dict['class'] = {\n",
    "        'unacc':0,\n",
    "        'acc':1,\n",
    "        'good':2,\n",
    "        'vgood':3\n",
    "    }\n",
    "    \n",
    "    return value_dict"
   ]
  },
  {
   "cell_type": "code",
   "execution_count": 12,
   "id": "ae68b8fa-7b5f-4240-84ab-4e0a558ab236",
   "metadata": {},
   "outputs": [
    {
     "name": "stdout",
     "output_type": "stream",
     "text": [
      "Before Encoding:\n",
      "buying: 4 unique values.\n",
      "['vhigh' 'med' 'low' 'high']\n",
      "\n",
      "maint: 4 unique values.\n",
      "['vhigh' 'low' 'med' 'high']\n",
      "\n",
      "lug_boot: 3 unique values.\n",
      "['big' 'small' 'med']\n",
      "\n",
      "safety: 3 unique values.\n",
      "['high' 'med' 'low']\n",
      "\n",
      "class: 4 unique values.\n",
      "['unacc' 'acc' 'vgood' 'good']\n",
      "\n",
      "\n",
      "After Encoding:\n",
      "buying: 4 unique values.\n",
      "[3 1 0 2]\n",
      "\n",
      "maint: 4 unique values.\n",
      "[3 0 1 2]\n",
      "\n",
      "lug_boot: 3 unique values.\n",
      "[2 0 1]\n",
      "\n",
      "safety: 3 unique values.\n",
      "[2 1 0]\n",
      "\n",
      "class: 4 unique values.\n",
      "[0 1 3 2]\n",
      "\n"
     ]
    }
   ],
   "source": [
    "# Encode ordinal columns\n",
    "ordinal_columns = ['buying', 'maint', 'lug_boot', 'safety', 'class']\n",
    "value_dict = init_encoding_dict()\n",
    "\n",
    "print('Before Encoding:')\n",
    "show_unique_values(train[ordinal_columns])\n",
    "train = custom_ordinal_encoder(train, ordinal_columns, value_dict)\n",
    "print('\\nAfter Encoding:')\n",
    "show_unique_values(train[ordinal_columns])"
   ]
  },
  {
   "cell_type": "code",
   "execution_count": 13,
   "id": "5476653d-b691-48f6-ad07-cf1fe265c007",
   "metadata": {},
   "outputs": [],
   "source": [
    "# Treat \"doors\" as categorical because it is not clear if increasing doors is associated with increasing buying price\n",
    "# - e.g. sport car has 2 doors but likely to be more expensive\n",
    "categorical_columns = [\"doors\"]\n",
    "train = custom_onehot_encoder(train, categorical_columns)\n",
    "train.drop(columns=categorical_columns, inplace=True)"
   ]
  },
  {
   "cell_type": "code",
   "execution_count": 14,
   "id": "7d68c3f3-97ed-4721-8c07-c3dd6a80549e",
   "metadata": {},
   "outputs": [
    {
     "data": {
      "text/plain": [
       "['maint',\n",
       " 'lug_boot',\n",
       " 'safety',\n",
       " 'class',\n",
       " 'doors_2',\n",
       " 'doors_3',\n",
       " 'doors_4',\n",
       " 'doors_5more']"
      ]
     },
     "execution_count": 14,
     "metadata": {},
     "output_type": "execute_result"
    }
   ],
   "source": [
    "# Update features X\n",
    "X = [i for i in train.columns if i not in ['buying','persons']]\n",
    "X"
   ]
  },
  {
   "cell_type": "code",
   "execution_count": 15,
   "id": "bdf88b5c-2bc1-4102-a4a3-83962f5ba5b7",
   "metadata": {},
   "outputs": [
    {
     "data": {
      "image/png": "[encoded data removed]",
      "text/plain": [
       "<Figure size 500x500 with 1 Axes>"
      ]
     },
     "metadata": {},
     "output_type": "display_data"
    },
    {
     "data": {
      "image/png": "[encoded data removed]",
      "text/plain": [
       "<Figure size 500x500 with 1 Axes>"
      ]
     },
     "metadata": {},
     "output_type": "display_data"
    },
    {
     "data": {
      "image/png": "[encoded data removed]",
      "text/plain": [
       "<Figure size 500x500 with 1 Axes>"
      ]
     },
     "metadata": {},
     "output_type": "display_data"
    },
    {
     "data": {
      "image/png": "[encoded data removed]",
      "text/plain": [
       "<Figure size 500x500 with 1 Axes>"
      ]
     },
     "metadata": {},
     "output_type": "display_data"
    },
    {
     "data": {
      "image/png": "[encoded data removed]",
      "text/plain": [
       "<Figure size 500x500 with 1 Axes>"
      ]
     },
     "metadata": {},
     "output_type": "display_data"
    },
    {
     "data": {
      "image/png": "[encoded data removed]",
      "text/plain": [
       "<Figure size 500x500 with 1 Axes>"
      ]
     },
     "metadata": {},
     "output_type": "display_data"
    },
    {
     "data": {
      "image/png": "[encoded data removed]",
      "text/plain": [
       "<Figure size 500x500 with 1 Axes>"
      ]
     },
     "metadata": {},
     "output_type": "display_data"
    },
    {
     "data": {
      "image/png": "[encoded data removed]",
      "text/plain": [
       "<Figure size 500x500 with 1 Axes>"
      ]
     },
     "metadata": {},
     "output_type": "display_data"
    }
   ],
   "source": [
    "# Explore relationship between features and target via box-plots\n",
    "for col in X:\n",
    "    sns.catplot(data=train, x=col, y='buying', kind='box')"
   ]
  },
  {
   "cell_type": "markdown",
   "id": "d5628214-396b-4529-a7f9-231b95709e93",
   "metadata": {},
   "source": [
    "## Perform Clustering on Features"
   ]
  },
  {
   "cell_type": "code",
   "execution_count": 16,
   "id": "97151565-a5d8-4c9f-9ccf-c8e13896424c",
   "metadata": {},
   "outputs": [
    {
     "data": {
      "text/plain": [
       "array([0.33507549, 0.55653934, 0.73101849, 0.80814999, 0.87305386])"
      ]
     },
     "execution_count": 16,
     "metadata": {},
     "output_type": "execute_result"
    }
   ],
   "source": [
    "# Apply PCA to find number of clusters\n",
    "# - top 3 components explain 73% of variance --> potentially 3 clusters\n",
    "pca = PCA(n_components=5)\n",
    "pcs = pca.fit_transform(train[X])\n",
    "pca.explained_variance_ratio_.cumsum()"
   ]
  },
  {
   "cell_type": "code",
   "execution_count": 17,
   "id": "dd5561da-ae13-44bf-b084-b0fac4537da8",
   "metadata": {},
   "outputs": [
    {
     "data": {
      "image/png": "[encoded data removed]",
      "text/plain": [
       "<Figure size 640x480 with 1 Axes>"
      ]
     },
     "metadata": {},
     "output_type": "display_data"
    }
   ],
   "source": [
    "# Apply hierarchical clustering to find number of clusters via dendrogram\n",
    "# - Dendrogam suggests there could be 3 clusters as well\n",
    "clusters = shc.linkage(\n",
    "    train[X], \n",
    "    method='ward', \n",
    "    metric=\"euclidean\")\n",
    "\n",
    "shc.dendrogram(Z=clusters)\n",
    "plt.axhline(y = 29, color = 'r', linestyle = '--')\n",
    "plt.show()"
   ]
  },
  {
   "cell_type": "code",
   "execution_count": 18,
   "id": "ae9eaa78-1ef5-4ccf-8aca-28b15e5be806",
   "metadata": {},
   "outputs": [],
   "source": [
    "# Fit KMeans clustering model with 3 clusters to derive label\n",
    "km = KMeans(\n",
    "    n_clusters=3, init='random',\n",
    "    n_init=10, max_iter=300,\n",
    "    tol=1e-04, random_state=0\n",
    ")\n",
    "km.fit(train[X])\n",
    "train['km_label'] = km.predict(train[X])"
   ]
  },
  {
   "cell_type": "code",
   "execution_count": 19,
   "id": "77043f89-1b8f-47c1-b975-9757789d2cc6",
   "metadata": {},
   "outputs": [
    {
     "data": {
      "text/plain": [
       "['maint',\n",
       " 'lug_boot',\n",
       " 'safety',\n",
       " 'class',\n",
       " 'doors_2',\n",
       " 'doors_3',\n",
       " 'doors_4',\n",
       " 'doors_5more',\n",
       " 'km_label']"
      ]
     },
     "execution_count": 19,
     "metadata": {},
     "output_type": "execute_result"
    }
   ],
   "source": [
    "# Add clustering label as a feature \n",
    "X = X + ['km_label']\n",
    "X"
   ]
  },
  {
   "cell_type": "code",
   "execution_count": 20,
   "id": "4ca4f280-4f21-4a86-9697-1a091255e9eb",
   "metadata": {},
   "outputs": [
    {
     "data": {
      "image/png": "[encoded data removed]",
      "text/plain": [
       "<Figure size 500x500 with 1 Axes>"
      ]
     },
     "metadata": {},
     "output_type": "display_data"
    }
   ],
   "source": [
    "# The new \"km_label\" feature exhibits some correlation with the target\n",
    "for col in ['km_label']:\n",
    "    sns.catplot(data=train, x=col, y='buying', kind='box')"
   ]
  },
  {
   "cell_type": "markdown",
   "id": "bd7ab9a5-33ac-47f9-bcb9-4d14a10cf2b5",
   "metadata": {},
   "source": [
    "## Define Preprocessing Pipeline Functions"
   ]
  },
  {
   "cell_type": "code",
   "execution_count": 21,
   "id": "7569f80b-29a0-4c92-b106-aadcedf01f1b",
   "metadata": {},
   "outputs": [],
   "source": [
    "def encode_data(df, ordinal_columns, categorical_columns):\n",
    "    if \"buying\" not in df.columns:\n",
    "        ordinal_columns.remove(\"buying\")\n",
    "    print('Encoding ordinal columns:', ordinal_columns)\n",
    "    value_dict = init_encoding_dict()\n",
    "    df = custom_ordinal_encoder(df, ordinal_columns, value_dict)\n",
    "    \n",
    "    print('Encoding categorical columns:', categorical_columns)\n",
    "    df = custom_onehot_encoder(df, categorical_columns)\n",
    "    df.drop(columns=categorical_columns, inplace=True)\n",
    "    \n",
    "    return df"
   ]
  },
  {
   "cell_type": "code",
   "execution_count": 22,
   "id": "280662d8-0783-40df-b4fd-27b40d70c05e",
   "metadata": {},
   "outputs": [],
   "source": [
    "def label_data(df, features, fitted_kmeans_model):\n",
    "    print('Apply KMeans clustering model fitted on training set to get new feature km_label')\n",
    "    df['km_label'] = fitted_kmeans_model.predict(df[features])\n",
    "    \n",
    "    return df\n",
    "    "
   ]
  },
  {
   "cell_type": "markdown",
   "id": "556890bc-61b5-445a-b292-7fc5557f5ff1",
   "metadata": {},
   "source": [
    "## Start ML Preprocessing process afresh"
   ]
  },
  {
   "cell_type": "code",
   "execution_count": 23,
   "id": "1401a09a-7277-4831-ba6b-bbd834597935",
   "metadata": {},
   "outputs": [
    {
     "name": "stdout",
     "output_type": "stream",
     "text": [
      "target: ['buying']\n",
      "features X: ['maint', 'doors', 'lug_boot', 'safety', 'class']\n"
     ]
    }
   ],
   "source": [
    "# define target y and features X\n",
    "y = ['buying']\n",
    "X = [i for i in data.columns if i not in ['buying','persons']]\n",
    "print('target:', y)\n",
    "print('features X:', X)"
   ]
  },
  {
   "cell_type": "code",
   "execution_count": 24,
   "id": "9395c9e5-6c1e-46ca-afee-df589e06006a",
   "metadata": {},
   "outputs": [
    {
     "name": "stdout",
     "output_type": "stream",
     "text": [
      "train: (1382, 6)\n",
      "test: (346, 6)\n"
     ]
    }
   ],
   "source": [
    "# train-test split\n",
    "train, test = train_test_split(data[X+y], test_size=0.2, shuffle=True, random_state=42)\n",
    "train = train.reset_index().drop('index',axis=1)\n",
    "test = test.reset_index().drop('index',axis=1)\n",
    "print('train:', train.shape)\n",
    "print('test:', test.shape)"
   ]
  },
  {
   "cell_type": "code",
   "execution_count": 25,
   "id": "454cfc2b-b7c3-4eaf-ac3e-6d68e771170e",
   "metadata": {},
   "outputs": [
    {
     "name": "stdout",
     "output_type": "stream",
     "text": [
      "Encoding ordinal columns: ['buying', 'maint', 'lug_boot', 'safety', 'class']\n",
      "Encoding categorical columns: ['doors']\n",
      "Encoding ordinal columns: ['buying', 'maint', 'lug_boot', 'safety', 'class']\n",
      "Encoding categorical columns: ['doors']\n",
      "Updated Features After Encoding: ['maint', 'lug_boot', 'safety', 'class', 'doors_2', 'doors_3', 'doors_4', 'doors_5more']\n"
     ]
    }
   ],
   "source": [
    "ordinal_columns = ['buying', 'maint', 'lug_boot', 'safety', 'class']\n",
    "categorical_columns = [\"doors\"]\n",
    "train = encode_data(train, ordinal_columns, categorical_columns)\n",
    "test = encode_data(test, ordinal_columns, categorical_columns)\n",
    "\n",
    "# Update features X\n",
    "X = [i for i in train.columns if i not in ['buying','persons']]\n",
    "print('Updated Features After Encoding:', X)"
   ]
  },
  {
   "cell_type": "code",
   "execution_count": 26,
   "id": "e4b65e8a-3f57-4214-a843-3f99516fd623",
   "metadata": {},
   "outputs": [
    {
     "data": {
      "text/html": [
       "<style>#sk-container-id-1 {color: black;background-color: white;}#sk-container-id-1 pre{padding: 0;}#sk-container-id-1 div.sk-toggleable {background-color: white;}#sk-container-id-1 label.sk-toggleable__label {cursor: pointer;display: block;width: 100%;margin-bottom: 0;padding: 0.3em;box-sizing: border-box;text-align: center;}#sk-container-id-1 label.sk-toggleable__label-arrow:before {content: \"▸\";float: left;margin-right: 0.25em;color: #696969;}#sk-container-id-1 label.sk-toggleable__label-arrow:hover:before {color: black;}#sk-container-id-1 div.sk-estimator:hover label.sk-toggleable__label-arrow:before {color: black;}#sk-container-id-1 div.sk-toggleable__content {max-height: 0;max-width: 0;overflow: hidden;text-align: left;background-color: #f0f8ff;}#sk-container-id-1 div.sk-toggleable__content pre {margin: 0.2em;color: black;border-radius: 0.25em;background-color: #f0f8ff;}#sk-container-id-1 input.sk-toggleable__control:checked~div.sk-toggleable__content {max-height: 200px;max-width: 100%;overflow: auto;}#sk-container-id-1 input.sk-toggleable__control:checked~label.sk-toggleable__label-arrow:before {content: \"▾\";}#sk-container-id-1 div.sk-estimator input.sk-toggleable__control:checked~label.sk-toggleable__label {background-color: #d4ebff;}#sk-container-id-1 div.sk-label input.sk-toggleable__control:checked~label.sk-toggleable__label {background-color: #d4ebff;}#sk-container-id-1 input.sk-hidden--visually {border: 0;clip: rect(1px 1px 1px 1px);clip: rect(1px, 1px, 1px, 1px);height: 1px;margin: -1px;overflow: hidden;padding: 0;position: absolute;width: 1px;}#sk-container-id-1 div.sk-estimator {font-family: monospace;background-color: #f0f8ff;border: 1px dotted black;border-radius: 0.25em;box-sizing: border-box;margin-bottom: 0.5em;}#sk-container-id-1 div.sk-estimator:hover {background-color: #d4ebff;}#sk-container-id-1 div.sk-parallel-item::after {content: \"\";width: 100%;border-bottom: 1px solid gray;flex-grow: 1;}#sk-container-id-1 div.sk-label:hover label.sk-toggleable__label {background-color: #d4ebff;}#sk-container-id-1 div.sk-serial::before {content: \"\";position: absolute;border-left: 1px solid gray;box-sizing: border-box;top: 0;bottom: 0;left: 50%;z-index: 0;}#sk-container-id-1 div.sk-serial {display: flex;flex-direction: column;align-items: center;background-color: white;padding-right: 0.2em;padding-left: 0.2em;position: relative;}#sk-container-id-1 div.sk-item {position: relative;z-index: 1;}#sk-container-id-1 div.sk-parallel {display: flex;align-items: stretch;justify-content: center;background-color: white;position: relative;}#sk-container-id-1 div.sk-item::before, #sk-container-id-1 div.sk-parallel-item::before {content: \"\";position: absolute;border-left: 1px solid gray;box-sizing: border-box;top: 0;bottom: 0;left: 50%;z-index: -1;}#sk-container-id-1 div.sk-parallel-item {display: flex;flex-direction: column;z-index: 1;position: relative;background-color: white;}#sk-container-id-1 div.sk-parallel-item:first-child::after {align-self: flex-end;width: 50%;}#sk-container-id-1 div.sk-parallel-item:last-child::after {align-self: flex-start;width: 50%;}#sk-container-id-1 div.sk-parallel-item:only-child::after {width: 0;}#sk-container-id-1 div.sk-dashed-wrapped {border: 1px dashed gray;margin: 0 0.4em 0.5em 0.4em;box-sizing: border-box;padding-bottom: 0.4em;background-color: white;}#sk-container-id-1 div.sk-label label {font-family: monospace;font-weight: bold;display: inline-block;line-height: 1.2em;}#sk-container-id-1 div.sk-label-container {text-align: center;}#sk-container-id-1 div.sk-container {/* jupyter's `normalize.less` sets `[hidden] { display: none; }` but bootstrap.min.css set `[hidden] { display: none !important; }` so we also need the `!important` here to be able to override the default hidden behavior on the sphinx rendered scikit-learn.org. See: https://github.com/scikit-learn/scikit-learn/issues/21755 */display: inline-block !important;position: relative;}#sk-container-id-1 div.sk-text-repr-fallback {display: none;}</style><div id=\"sk-container-id-1\" class=\"sk-top-container\"><div class=\"sk-text-repr-fallback\"><pre>KMeans(init=&#x27;random&#x27;, n_clusters=3, n_init=10, random_state=0)</pre><b>In a Jupyter environment, please rerun this cell to show the HTML representation or trust the notebook. <br />On GitHub, the HTML representation is unable to render, please try loading this page with nbviewer.org.</b></div><div class=\"sk-container\" hidden><div class=\"sk-item\"><div class=\"sk-estimator sk-toggleable\"><input class=\"sk-toggleable__control sk-hidden--visually\" id=\"sk-estimator-id-1\" type=\"checkbox\" checked><label for=\"sk-estimator-id-1\" class=\"sk-toggleable__label sk-toggleable__label-arrow\">KMeans</label><div class=\"sk-toggleable__content\"><pre>KMeans(init=&#x27;random&#x27;, n_clusters=3, n_init=10, random_state=0)</pre></div></div></div></div></div>"
      ],
      "text/plain": [
       "KMeans(init='random', n_clusters=3, n_init=10, random_state=0)"
      ]
     },
     "execution_count": 26,
     "metadata": {},
     "output_type": "execute_result"
    }
   ],
   "source": [
    "# Fit KMeans clustering model on training set with 3 clusters\n",
    "km = KMeans(\n",
    "    n_clusters=3, init='random',\n",
    "    n_init=10, max_iter=300,\n",
    "    tol=1e-04, random_state=0\n",
    ")\n",
    "km.fit(train[X])"
   ]
  },
  {
   "cell_type": "code",
   "execution_count": 27,
   "id": "cce31cf5-9f67-4847-8723-72845ad4d31c",
   "metadata": {},
   "outputs": [
    {
     "name": "stdout",
     "output_type": "stream",
     "text": [
      "Apply KMeans clustering model fitted on training set to get new feature km_label\n",
      "Apply KMeans clustering model fitted on training set to get new feature km_label\n"
     ]
    }
   ],
   "source": [
    "# Apply KMeans model to get clustering labels (km_label) on both train and test set\n",
    "train = label_data(df=train, features=X, fitted_kmeans_model=km)\n",
    "test = label_data(df=test, features=X, fitted_kmeans_model=km)"
   ]
  },
  {
   "cell_type": "code",
   "execution_count": 28,
   "id": "8b6df917-2f32-4467-874e-52adaf99dd72",
   "metadata": {},
   "outputs": [
    {
     "name": "stdout",
     "output_type": "stream",
     "text": [
      "Original Features: ['maint', 'lug_boot', 'safety', 'class', 'doors_2', 'doors_3', 'doors_4', 'doors_5more']\n",
      "Updated Features: ['maint', 'lug_boot', 'safety', 'class', 'doors_2', 'doors_3', 'doors_4', 'doors_5more', 'km_label']\n"
     ]
    }
   ],
   "source": [
    "# Add km_label to feature list X\n",
    "X2 = X + ['km_label']\n",
    "print('Original Features:', X)\n",
    "print('Updated Features:', X2)"
   ]
  },
  {
   "cell_type": "markdown",
   "id": "a7a875fa-f516-40f7-bbd6-40834a2c19a6",
   "metadata": {},
   "source": [
    "## Train and Evaluate ML Model"
   ]
  },
  {
   "cell_type": "code",
   "execution_count": 29,
   "id": "e4ddda65-0281-4994-b962-306efee6f44d",
   "metadata": {},
   "outputs": [],
   "source": [
    "# define ML models to try out\n",
    "model_dict = {\n",
    "    'linreg': LinearRegression(),\n",
    "    'gbr': GradientBoostingRegressor(),\n",
    "    'knn':KNeighborsRegressor(),\n",
    "}"
   ]
  },
  {
   "cell_type": "markdown",
   "id": "1296872e-030b-48a5-bad9-c6d015700145",
   "metadata": {},
   "source": [
    "### Try without clustering label"
   ]
  },
  {
   "cell_type": "code",
   "execution_count": 30,
   "id": "9d0e632e-ed9f-4ca6-8b2c-618d90dc4a8d",
   "metadata": {},
   "outputs": [],
   "source": [
    "# define X_train, y_train without clustering label\n",
    "X_train = train[X].values\n",
    "y_train = train[y].values.flatten()"
   ]
  },
  {
   "cell_type": "code",
   "execution_count": 31,
   "id": "5b7dd6ec-fdc7-41d4-9c50-8982a0ef2437",
   "metadata": {},
   "outputs": [
    {
     "name": "stdout",
     "output_type": "stream",
     "text": [
      "training and evaluating linreg: LinearRegression() via K-fold cross-validation...\n",
      "training and evaluating gbr: GradientBoostingRegressor() via K-fold cross-validation...\n",
      "training and evaluating knn: KNeighborsRegressor() via K-fold cross-validation...\n",
      "\n",
      "Mean CV scores:\n"
     ]
    },
    {
     "data": {
      "text/html": [
       "<div>\n",
       "<style scoped>\n",
       "    .dataframe tbody tr th:only-of-type {\n",
       "        vertical-align: middle;\n",
       "    }\n",
       "\n",
       "    .dataframe tbody tr th {\n",
       "        vertical-align: top;\n",
       "    }\n",
       "\n",
       "    .dataframe thead th {\n",
       "        text-align: right;\n",
       "    }\n",
       "</style>\n",
       "<table border=\"1\" class=\"dataframe\">\n",
       "  <thead>\n",
       "    <tr style=\"text-align: right;\">\n",
       "      <th></th>\n",
       "      <th>model</th>\n",
       "      <th>fit_time</th>\n",
       "      <th>score_time</th>\n",
       "      <th>test_r2</th>\n",
       "    </tr>\n",
       "  </thead>\n",
       "  <tbody>\n",
       "    <tr>\n",
       "      <th>0</th>\n",
       "      <td>linreg</td>\n",
       "      <td>0.000774</td>\n",
       "      <td>0.000188</td>\n",
       "      <td>0.088869</td>\n",
       "    </tr>\n",
       "    <tr>\n",
       "      <th>1</th>\n",
       "      <td>gbr</td>\n",
       "      <td>0.044631</td>\n",
       "      <td>0.000601</td>\n",
       "      <td>0.155556</td>\n",
       "    </tr>\n",
       "    <tr>\n",
       "      <th>2</th>\n",
       "      <td>knn</td>\n",
       "      <td>0.000561</td>\n",
       "      <td>0.001609</td>\n",
       "      <td>-0.081293</td>\n",
       "    </tr>\n",
       "  </tbody>\n",
       "</table>\n",
       "</div>"
      ],
      "text/plain": [
       "    model  fit_time  score_time   test_r2\n",
       "0  linreg  0.000774    0.000188  0.088869\n",
       "1     gbr  0.044631    0.000601  0.155556\n",
       "2     knn  0.000561    0.001609 -0.081293"
      ]
     },
     "execution_count": 31,
     "metadata": {},
     "output_type": "execute_result"
    }
   ],
   "source": [
    "# train and evaluate ML models using K-fold cross-validation\n",
    "cv_mean = []\n",
    "cv_std = []\n",
    "scoring = ['r2']\n",
    "\n",
    "for name in model_dict:\n",
    "    print('training and evaluating {}: {} via K-fold cross-validation...'.format(name, model_dict[name]))\n",
    "    cv_scores = cross_validate(model_dict[name], X_train, y_train, scoring=scoring)\n",
    "\n",
    "    cv_scores = pd.DataFrame.from_dict(cv_scores)\n",
    "    cv_mean.append([name]+cv_scores.mean().to_list())\n",
    "    cv_std.append([name]+cv_scores.std().to_list())\n",
    "\n",
    "cv_mean = pd.DataFrame(cv_mean, columns=['model']+list(cv_scores.columns))\n",
    "cv_std = pd.DataFrame(cv_std, columns=['model']+list(cv_scores.columns))\n",
    "\n",
    "print()\n",
    "print('Mean CV scores:')\n",
    "cv_mean"
   ]
  },
  {
   "cell_type": "markdown",
   "id": "19c9371a-ad9c-4e81-a664-a061ff8c641d",
   "metadata": {},
   "source": [
    "### Try with clustering label"
   ]
  },
  {
   "cell_type": "code",
   "execution_count": 32,
   "id": "fa898cc6-c61f-4bbb-a8c3-9352db41cb62",
   "metadata": {},
   "outputs": [],
   "source": [
    "X_train = train[X2].values\n",
    "y_train = train[y].values.flatten()"
   ]
  },
  {
   "cell_type": "code",
   "execution_count": 33,
   "id": "c7bbb869-1c48-49af-88e9-929d4ad2eda4",
   "metadata": {},
   "outputs": [
    {
     "name": "stdout",
     "output_type": "stream",
     "text": [
      "training and evaluating linreg: LinearRegression() via K-fold cross-validation...\n",
      "training and evaluating gbr: GradientBoostingRegressor() via K-fold cross-validation...\n",
      "training and evaluating knn: KNeighborsRegressor() via K-fold cross-validation...\n",
      "\n",
      "Mean CV scores:\n"
     ]
    },
    {
     "data": {
      "text/html": [
       "<div>\n",
       "<style scoped>\n",
       "    .dataframe tbody tr th:only-of-type {\n",
       "        vertical-align: middle;\n",
       "    }\n",
       "\n",
       "    .dataframe tbody tr th {\n",
       "        vertical-align: top;\n",
       "    }\n",
       "\n",
       "    .dataframe thead th {\n",
       "        text-align: right;\n",
       "    }\n",
       "</style>\n",
       "<table border=\"1\" class=\"dataframe\">\n",
       "  <thead>\n",
       "    <tr style=\"text-align: right;\">\n",
       "      <th></th>\n",
       "      <th>model</th>\n",
       "      <th>fit_time</th>\n",
       "      <th>score_time</th>\n",
       "      <th>test_r2</th>\n",
       "    </tr>\n",
       "  </thead>\n",
       "  <tbody>\n",
       "    <tr>\n",
       "      <th>0</th>\n",
       "      <td>linreg</td>\n",
       "      <td>0.000890</td>\n",
       "      <td>0.000233</td>\n",
       "      <td>0.136200</td>\n",
       "    </tr>\n",
       "    <tr>\n",
       "      <th>1</th>\n",
       "      <td>gbr</td>\n",
       "      <td>0.046471</td>\n",
       "      <td>0.000589</td>\n",
       "      <td>0.159472</td>\n",
       "    </tr>\n",
       "    <tr>\n",
       "      <th>2</th>\n",
       "      <td>knn</td>\n",
       "      <td>0.000578</td>\n",
       "      <td>0.001586</td>\n",
       "      <td>-0.073665</td>\n",
       "    </tr>\n",
       "  </tbody>\n",
       "</table>\n",
       "</div>"
      ],
      "text/plain": [
       "    model  fit_time  score_time   test_r2\n",
       "0  linreg  0.000890    0.000233  0.136200\n",
       "1     gbr  0.046471    0.000589  0.159472\n",
       "2     knn  0.000578    0.001586 -0.073665"
      ]
     },
     "execution_count": 33,
     "metadata": {},
     "output_type": "execute_result"
    }
   ],
   "source": [
    "# train and evaluate ML models using K-fold cross-validation\n",
    "cv_mean = []\n",
    "cv_std = []\n",
    "scoring = ['r2']\n",
    "\n",
    "for name in model_dict:\n",
    "    print('training and evaluating {}: {} via K-fold cross-validation...'.format(name, model_dict[name]))\n",
    "    cv_scores = cross_validate(model_dict[name], X_train, y_train, scoring=scoring)\n",
    "\n",
    "    cv_scores = pd.DataFrame.from_dict(cv_scores)\n",
    "    cv_mean.append([name]+cv_scores.mean().to_list())\n",
    "    cv_std.append([name]+cv_scores.std().to_list())\n",
    "\n",
    "cv_mean = pd.DataFrame(cv_mean, columns=['model']+list(cv_scores.columns))\n",
    "cv_std = pd.DataFrame(cv_std, columns=['model']+list(cv_scores.columns))\n",
    "\n",
    "print()\n",
    "print('Mean CV scores:')\n",
    "cv_mean"
   ]
  },
  {
   "cell_type": "markdown",
   "id": "81136867-0aee-44a7-8420-7e75e6c58643",
   "metadata": {},
   "source": [
    "### Best model is GradientBoostingRegressor with clustering label as feature"
   ]
  },
  {
   "cell_type": "code",
   "execution_count": 36,
   "id": "9716def7-1c89-4439-a0dc-df66ee59d299",
   "metadata": {},
   "outputs": [
    {
     "name": "stdout",
     "output_type": "stream",
     "text": [
      "Best Model = GradientBoostingRegressor()\n"
     ]
    }
   ],
   "source": [
    "best_model = model_dict['gbr']\n",
    "print('Best Model =', best_model)"
   ]
  },
  {
   "cell_type": "code",
   "execution_count": 37,
   "id": "5fdabdf3-d0c4-42d9-9a4a-9aa0ecf79958",
   "metadata": {},
   "outputs": [
    {
     "name": "stdout",
     "output_type": "stream",
     "text": [
      "model score = 0.16716850914043735\n",
      "metrics.r2_score = 0.015575913644236938\n",
      "metrics.acc = 0.28901734104046245\n"
     ]
    }
   ],
   "source": [
    "# Retrain best model on the full train partition with km_label as feature\n",
    "X_train = train[X2].values\n",
    "y_train = train[y].values.flatten()\n",
    "best_model.fit(X_train,y_train)\n",
    "\n",
    "# Estimate of out-of-sample performance on unseen test partition\n",
    "X_test = test[X2].values\n",
    "y_test = test[y].values.flatten()\n",
    "y_pred = np.round(best_model.predict(X_test),0)\n",
    "\n",
    "print('model score =', best_model.score(X_test,y_test))\n",
    "print('metrics.r2_score =', metrics.r2_score(y_test, y_pred))\n",
    "print('metrics.acc =', metrics.accuracy_score(y_test,y_pred))"
   ]
  },
  {
   "cell_type": "markdown",
   "id": "e2e53f5a-23f3-4299-ba08-a2933a2fb748",
   "metadata": {},
   "source": [
    "## Perform inference on given sample"
   ]
  },
  {
   "cell_type": "code",
   "execution_count": 38,
   "id": "12a4229a-5f6f-47d2-b91e-19063fd0708c",
   "metadata": {},
   "outputs": [
    {
     "data": {
      "text/plain": [
       "['doors_2', 'doors_3', 'doors_4', 'doors_5more']"
      ]
     },
     "execution_count": 38,
     "metadata": {},
     "output_type": "execute_result"
    }
   ],
   "source": [
    "onehot_columns = [i for i in train.columns if \"doors\" in i]\n",
    "onehot_columns"
   ]
  },
  {
   "cell_type": "code",
   "execution_count": 41,
   "id": "584f482f-df89-4605-a718-56e808fc366b",
   "metadata": {},
   "outputs": [
    {
     "data": {
      "text/html": [
       "<div>\n",
       "<style scoped>\n",
       "    .dataframe tbody tr th:only-of-type {\n",
       "        vertical-align: middle;\n",
       "    }\n",
       "\n",
       "    .dataframe tbody tr th {\n",
       "        vertical-align: top;\n",
       "    }\n",
       "\n",
       "    .dataframe thead th {\n",
       "        text-align: right;\n",
       "    }\n",
       "</style>\n",
       "<table border=\"1\" class=\"dataframe\">\n",
       "  <thead>\n",
       "    <tr style=\"text-align: right;\">\n",
       "      <th></th>\n",
       "      <th>maint</th>\n",
       "      <th>doors</th>\n",
       "      <th>lug_boot</th>\n",
       "      <th>safety</th>\n",
       "      <th>class</th>\n",
       "    </tr>\n",
       "  </thead>\n",
       "  <tbody>\n",
       "    <tr>\n",
       "      <th>0</th>\n",
       "      <td>high</td>\n",
       "      <td>4</td>\n",
       "      <td>big</td>\n",
       "      <td>high</td>\n",
       "      <td>good</td>\n",
       "    </tr>\n",
       "  </tbody>\n",
       "</table>\n",
       "</div>"
      ],
      "text/plain": [
       "  maint doors lug_boot safety class\n",
       "0  high     4      big   high  good"
      ]
     },
     "execution_count": 41,
     "metadata": {},
     "output_type": "execute_result"
    }
   ],
   "source": [
    "sample = ['high','4','big','high','good']\n",
    "sample_df = pd.DataFrame(sample).transpose()\n",
    "sample_df.columns = ['maint','doors','lug_boot','safety','class']\n",
    "sample_df"
   ]
  },
  {
   "cell_type": "code",
   "execution_count": 42,
   "id": "e62a8514-4253-4e3c-9e28-e36659130a1d",
   "metadata": {},
   "outputs": [
    {
     "name": "stdout",
     "output_type": "stream",
     "text": [
      "Encoding ordinal columns: ['maint', 'lug_boot', 'safety', 'class']\n",
      "Encoding categorical columns: ['doors']\n"
     ]
    }
   ],
   "source": [
    "# Apply encoding\n",
    "ordinal_columns = ['buying', 'maint', 'lug_boot', 'safety', 'class']\n",
    "categorical_columns = [\"doors\"]\n",
    "sample_df = encode_data(sample_df, ordinal_columns, categorical_columns)\n",
    "X = [i for i in sample_df.columns if i not in ['buying','persons']]"
   ]
  },
  {
   "cell_type": "code",
   "execution_count": 43,
   "id": "ab3dc1a2-a272-413a-9e72-d6832c71d029",
   "metadata": {},
   "outputs": [
    {
     "name": "stdout",
     "output_type": "stream",
     "text": [
      "Features in sample: ['maint', 'lug_boot', 'safety', 'class', 'doors_2', 'doors_3', 'doors_4', 'doors_5more']\n"
     ]
    }
   ],
   "source": [
    "# Add in missing onehot columns\n",
    "missing_onehot_cols = [i for i in onehot_columns if i not in sample_df.columns]\n",
    "for col in missing_onehot_cols:\n",
    "    sample_df[col] = 0\n",
    "sample_df = sample_df[['maint', 'lug_boot', 'safety', 'class', 'doors_2', 'doors_3', 'doors_4', 'doors_5more']]\n",
    "X = [i for i in sample_df.columns if i not in ['buying','persons']]\n",
    "print(\"Features in sample:\", X)"
   ]
  },
  {
   "cell_type": "code",
   "execution_count": 44,
   "id": "afec45d1-4042-41dd-b446-cee981cac351",
   "metadata": {},
   "outputs": [
    {
     "name": "stdout",
     "output_type": "stream",
     "text": [
      "Apply KMeans clustering model fitted on training set to get new feature km_label\n"
     ]
    }
   ],
   "source": [
    "# Get KM clustering label\n",
    "sample_df = label_data(df=sample_df, features=X, fitted_kmeans_model=km)"
   ]
  },
  {
   "cell_type": "code",
   "execution_count": 45,
   "id": "f545e3f8-d68d-456a-8815-13689c5c3bc2",
   "metadata": {},
   "outputs": [
    {
     "name": "stdout",
     "output_type": "stream",
     "text": [
      "Original Features: ['maint', 'lug_boot', 'safety', 'class', 'doors_2', 'doors_3', 'doors_4', 'doors_5more']\n",
      "Updated Features: ['maint', 'lug_boot', 'safety', 'class', 'doors_2', 'doors_3', 'doors_4', 'doors_5more', 'km_label']\n"
     ]
    }
   ],
   "source": [
    "# Add km_label to feature list X\n",
    "X2 = X + ['km_label']\n",
    "print('Original Features:', X)\n",
    "print('Updated Features:', X2)"
   ]
  },
  {
   "cell_type": "code",
   "execution_count": 46,
   "id": "d4270fc3-bfeb-4b7e-a50c-14c0084f0114",
   "metadata": {},
   "outputs": [
    {
     "name": "stdout",
     "output_type": "stream",
     "text": [
      "Prediction for buying encoding =  0\n",
      "Prediction for buying price =  ['low']\n"
     ]
    }
   ],
   "source": [
    "# Estimate of out-of-sample performance on unseen test partition\n",
    "X_test = sample_df[X2].values\n",
    "y_pred = int(np.round(best_model.predict(X_test),0))\n",
    "print(\"Prediction for buying encoding = \", y_pred)\n",
    "print(\"Prediction for buying price = \", [key for key,val in value_dict['buying'].items() if val==y_pred])"
   ]
  },
  {
   "cell_type": "code",
   "execution_count": null,
   "id": "b5a89885-f497-46dc-be26-e1e454da4cf9",
   "metadata": {},
   "outputs": [],
   "source": []
  }
 ],
 "metadata": {
  "kernelspec": {
   "display_name": "Python 3 (ipykernel)",
   "language": "python",
   "name": "python3"
  },
  "language_info": {
   "codemirror_mode": {
    "name": "ipython",
    "version": 3
   },
   "file_extension": ".py",
   "mimetype": "text/x-python",
   "name": "python",
   "nbconvert_exporter": "python",
   "pygments_lexer": "ipython3",
   "version": "3.10.8"
  }
 },
 "nbformat": 4,
 "nbformat_minor": 5
}
